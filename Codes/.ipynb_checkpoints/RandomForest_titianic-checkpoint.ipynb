{
 "cells": [
  {
   "cell_type": "markdown",
   "id": "1079a197",
   "metadata": {},
   "source": [
    "# Title : Titanic - Machine Learning from Disaster\n",
    "\n",
    "### Description: \n",
    "\n",
    "The objective of this code is to build a predictive model using **RandomForestClassifier** that answers the question: \n",
    "“what sorts of people were more likely to survive?” using passenger data (ie name,age,gender,socio-economic class,etc)."
   ]
  },
  {
   "cell_type": "markdown",
   "id": "b2a49e71",
   "metadata": {},
   "source": [
    "### Load titanic dataset"
   ]
  },
  {
   "cell_type": "code",
   "execution_count": null,
   "id": "45cdeacb",
   "metadata": {
    "_cell_guid": "b1076dfc-b9ad-4769-8c92-a6c4dae69d19",
    "_uuid": "8f2839f25d086af736a60e9eeb907d3b93b6e0e5",
    "execution": {
     "iopub.execute_input": "2022-10-02T23:20:04.617734Z",
     "iopub.status.busy": "2022-10-02T23:20:04.617295Z",
     "iopub.status.idle": "2022-10-02T23:20:04.636392Z",
     "shell.execute_reply": "2022-10-02T23:20:04.635249Z"
    },
    "papermill": {
     "duration": 0.026945,
     "end_time": "2022-10-02T23:20:04.638853",
     "exception": false,
     "start_time": "2022-10-02T23:20:04.611908",
     "status": "completed"
    },
    "tags": []
   },
   "outputs": [],
   "source": [
    "# This Python 3 environment comes with many helpful analytics libraries installed\n",
    "# It is defined by the kaggle/python Docker image: https://github.com/kaggle/docker-python\n",
    "# For example, here's several helpful packages to load\n",
    "\n",
    "import numpy as np # linear algebra\n",
    "import pandas as pd # data processing, CSV file I/O (e.g. pd.read_csv)\n",
    "\n",
    "# Input data files are available in the read-only \"../input/\" directory\n",
    "# For example, running this (by clicking run or pressing Shift+Enter) will list all files under the input directory\n",
    "\n",
    "import os\n",
    "for dirname, _, filenames in os.walk('/kaggle/input'):\n",
    "    for filename in filenames:\n",
    "        print(os.path.join(dirname, filename))\n",
    "\n",
    "# You can write up to 20GB to the current directory (/kaggle/working/) that gets preserved as output when you create a version using \"Save & Run All\" \n",
    "# You can also write temporary files to /kaggle/temp/, but they won't be saved outside of the current session"
   ]
  },
  {
   "cell_type": "markdown",
   "id": "192bb7a3",
   "metadata": {},
   "source": [
    "### Read titanic train dataset and store it in train_data"
   ]
  },
  {
   "cell_type": "code",
   "execution_count": null,
   "id": "6b4b1f01",
   "metadata": {
    "execution": {
     "iopub.execute_input": "2022-10-02T23:20:04.646217Z",
     "iopub.status.busy": "2022-10-02T23:20:04.645614Z",
     "iopub.status.idle": "2022-10-02T23:20:04.690368Z",
     "shell.execute_reply": "2022-10-02T23:20:04.689378Z"
    },
    "papermill": {
     "duration": 0.050797,
     "end_time": "2022-10-02T23:20:04.692682",
     "exception": false,
     "start_time": "2022-10-02T23:20:04.641885",
     "status": "completed"
    },
    "tags": []
   },
   "outputs": [],
   "source": [
    "train_data = pd.read_csv(\"./titanic/train.csv\")\n",
    "train_data.head()"
   ]
  },
  {
   "cell_type": "markdown",
   "id": "34836c3f",
   "metadata": {},
   "source": [
    "### Read titanic test dataset and store it in test_data"
   ]
  },
  {
   "cell_type": "code",
   "execution_count": null,
   "id": "ba096008",
   "metadata": {
    "execution": {
     "iopub.execute_input": "2022-10-02T23:20:04.700237Z",
     "iopub.status.busy": "2022-10-02T23:20:04.699895Z",
     "iopub.status.idle": "2022-10-02T23:20:04.725024Z",
     "shell.execute_reply": "2022-10-02T23:20:04.723917Z"
    },
    "papermill": {
     "duration": 0.031807,
     "end_time": "2022-10-02T23:20:04.727525",
     "exception": false,
     "start_time": "2022-10-02T23:20:04.695718",
     "status": "completed"
    },
    "tags": []
   },
   "outputs": [],
   "source": [
    "test_data = pd.read_csv(\"./titanic/test.csv\")\n",
    "test_data.head()"
   ]
  },
  {
   "cell_type": "markdown",
   "id": "881a54d6",
   "metadata": {},
   "source": [
    "### Check the use of 'Sex' feature while predicting the class "
   ]
  },
  {
   "cell_type": "code",
   "execution_count": null,
   "id": "f5e852ef",
   "metadata": {
    "execution": {
     "iopub.execute_input": "2022-10-02T23:20:04.735658Z",
     "iopub.status.busy": "2022-10-02T23:20:04.735279Z",
     "iopub.status.idle": "2022-10-02T23:20:04.749349Z",
     "shell.execute_reply": "2022-10-02T23:20:04.748072Z"
    },
    "papermill": {
     "duration": 0.020772,
     "end_time": "2022-10-02T23:20:04.751744",
     "exception": false,
     "start_time": "2022-10-02T23:20:04.730972",
     "status": "completed"
    },
    "tags": []
   },
   "outputs": [],
   "source": [
    "women = train_data.loc[train_data.Sex == 'female'][\"Survived\"]\n",
    "rate_women = sum(women)/len(women)\n",
    "\n",
    "print(\"% of women who survived:\", rate_women)"
   ]
  },
  {
   "cell_type": "code",
   "execution_count": null,
   "id": "96d5b117",
   "metadata": {
    "execution": {
     "iopub.execute_input": "2022-10-02T23:20:04.759694Z",
     "iopub.status.busy": "2022-10-02T23:20:04.759311Z",
     "iopub.status.idle": "2022-10-02T23:20:04.767073Z",
     "shell.execute_reply": "2022-10-02T23:20:04.765983Z"
    },
    "papermill": {
     "duration": 0.014294,
     "end_time": "2022-10-02T23:20:04.769331",
     "exception": false,
     "start_time": "2022-10-02T23:20:04.755037",
     "status": "completed"
    },
    "tags": []
   },
   "outputs": [],
   "source": [
    "men = train_data.loc[train_data.Sex == 'male'][\"Survived\"]\n",
    "rate_men = sum(men)/len(men)\n",
    "\n",
    "print(\"% of men who survived:\", rate_men)"
   ]
  },
  {
   "cell_type": "markdown",
   "id": "b0985dc8",
   "metadata": {},
   "source": [
    "### Steps to follow\n",
    "    step1 : Extract the class('Survived') column from train_data and store it in y\n",
    "    step2 : Using \"Pclass\", \"Sex\", \"SibSp\", \"Parch\" features to build a model\n",
    "    step3 : Extracting the above columns from train_data and test_data and store it in X and X_test\n",
    "    step4 : Using RandomForestClassifier to build titanic disaster predictive model \n",
    "    step5 : Fit the model using X and y\n",
    "    step6 : predict the test_y for X_test using the fitted model"
   ]
  },
  {
   "cell_type": "code",
   "execution_count": null,
   "id": "8ae6488b",
   "metadata": {
    "execution": {
     "iopub.execute_input": "2022-10-02T23:20:04.777537Z",
     "iopub.status.busy": "2022-10-02T23:20:04.776716Z",
     "iopub.status.idle": "2022-10-02T23:20:06.198156Z",
     "shell.execute_reply": "2022-10-02T23:20:06.196741Z"
    },
    "papermill": {
     "duration": 1.428357,
     "end_time": "2022-10-02T23:20:06.200916",
     "exception": false,
     "start_time": "2022-10-02T23:20:04.772559",
     "status": "completed"
    },
    "tags": []
   },
   "outputs": [],
   "source": [
    "from sklearn.ensemble import RandomForestClassifier\n",
    "\n",
    "y = train_data[\"Survived\"]\n",
    "\n",
    "features = [\"Pclass\", \"Sex\", \"SibSp\", \"Parch\"]\n",
    "X = pd.get_dummies(train_data[features])\n",
    "X_test = pd.get_dummies(test_data[features])\n",
    "\n",
    "model = RandomForestClassifier(n_estimators=100, max_depth=5, random_state=1)\n",
    "model.fit(X, y)\n",
    "predictions = model.predict(X_test)\n",
    "\n",
    "output = pd.DataFrame({'PassengerId': test_data.PassengerId, 'Survived': predictions})\n",
    "output.to_csv('submission.csv', index=False)\n",
    "print(\"Your submission was successfully saved!\")"
   ]
  }
 ],
 "metadata": {
  "kernelspec": {
   "display_name": "Python 3 (ipykernel)",
   "language": "python",
   "name": "python3"
  },
  "language_info": {
   "codemirror_mode": {
    "name": "ipython",
    "version": 3
   },
   "file_extension": ".py",
   "mimetype": "text/x-python",
   "name": "python",
   "nbconvert_exporter": "python",
   "pygments_lexer": "ipython3",
   "version": "3.9.7"
  },
  "papermill": {
   "default_parameters": {},
   "duration": 10.991453,
   "end_time": "2022-10-02T23:20:06.933672",
   "environment_variables": {},
   "exception": null,
   "input_path": "__notebook__.ipynb",
   "output_path": "__notebook__.ipynb",
   "parameters": {},
   "start_time": "2022-10-02T23:19:55.942219",
   "version": "2.3.4"
  },
  "vscode": {
   "interpreter": {
    "hash": "8907e1f1616ba41b5cd8a4ff2e5ad0a1aedd5df2fe71ad6e033137a8a55620fe"
   }
  }
 },
 "nbformat": 4,
 "nbformat_minor": 5
}
